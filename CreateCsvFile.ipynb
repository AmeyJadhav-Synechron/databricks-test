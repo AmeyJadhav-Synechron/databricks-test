{
 "cells": [
  {
   "cell_type": "code",
   "execution_count": 0,
   "metadata": {
    "application/vnd.databricks.v1+cell": {
     "cellMetadata": {
      "byteLimit": 2048000,
      "rowLimit": 10000
     },
     "inputWidgets": {},
     "nuid": "68d827aa-b718-4d83-ac2b-db5600520f8d",
     "showTitle": false,
     "tableResultSettingsMap": {},
     "title": ""
    }
   },
   "outputs": [],
   "source": [
    "%pip install faker"
   ]
  },
  {
   "cell_type": "code",
   "execution_count": 0,
   "metadata": {
    "application/vnd.databricks.v1+cell": {
     "cellMetadata": {
      "byteLimit": 2048000,
      "rowLimit": 10000
     },
     "inputWidgets": {},
     "nuid": "7a617681-9132-4f45-9253-2805ff205aae",
     "showTitle": false,
     "tableResultSettingsMap": {},
     "title": ""
    }
   },
   "outputs": [],
   "source": [
    "import pandas as pd\n",
    "from faker import Faker\n",
    "import random\n",
    "\n",
    "fake = Faker()\n",
    "\n",
    "departments = ['HR', 'Finance', 'Engineering', 'Sales', 'Marketing', 'Support', 'Operations']\n",
    "job_titles = {\n",
    "    'HR': ['HR Manager', 'Recruiter', 'HR Coordinator'],\n",
    "    'Finance': ['Accountant', 'Financial Analyst', 'Auditor'],\n",
    "    'Engineering': ['Software Engineer', 'DevOps Engineer', 'QA Tester'],\n",
    "    'Sales': ['Sales Executive', 'Account Manager', 'Sales Analyst'],\n",
    "    'Marketing': ['Marketing Manager', 'Content Strategist', 'SEO Specialist'],\n",
    "    'Support': ['Support Agent', 'Technical Support', 'Customer Success'],\n",
    "    'Operations': ['Operations Manager', 'Logistics Coordinator', 'Process Analyst']\n",
    "}\n",
    "\n",
    "data = []\n",
    "for i in range(1, 51):\n",
    "    dept = random.choice(departments)\n",
    "    data.append({\n",
    "        \"Employee ID\": i,\n",
    "        \"First Name\": fake.first_name(),\n",
    "        \"Last Name\": fake.last_name(),\n",
    "        \"Email\": fake.email(),\n",
    "        \"Mobile Number\": fake.phone_number(),\n",
    "        \"Department\": dept,\n",
    "        \"Job Title\": random.choice(job_titles[dept]),\n",
    "        \"Salary\": random.randint(30000, 150000),\n",
    "        \"Joining Date\": fake.date_between(start_date='-5y', end_date='today'),\n",
    "        \"City\": fake.city(),\n",
    "        \"State\": fake.state(),\n",
    "        \"Address1\": fake.street_address(),\n",
    "        \"Address2\": fake.secondary_address()\n",
    "    })\n",
    "\n",
    "df = pd.DataFrame(data)\n",
    "df.to_csv(\"enhanced_employee_data.csv\", index=False)\n",
    "print(\"CSV file 'enhanced_employee_data.csv' created successfully!\")"
   ]
  }
 ],
 "metadata": {
  "application/vnd.databricks.v1+notebook": {
   "computePreferences": null,
   "dashboards": [],
   "environmentMetadata": {
    "base_environment": "",
    "environment_version": "3"
   },
   "inputWidgetPreferences": null,
   "language": "python",
   "notebookMetadata": {
    "pythonIndentUnit": 4
   },
   "notebookName": "CreateCsvFile",
   "widgets": {}
  },
  "language_info": {
   "name": "python"
  }
 },
 "nbformat": 4,
 "nbformat_minor": 0
}
